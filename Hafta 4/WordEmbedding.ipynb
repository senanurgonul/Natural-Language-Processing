{
 "cells": [
  {
   "cell_type": "markdown",
   "id": "2c76265a",
   "metadata": {},
   "source": [
    "# Word Embedding"
   ]
  },
  {
   "cell_type": "markdown",
   "id": "780eef3e",
   "metadata": {},
   "source": [
    "Word embedding, kelimeleri sayısal vektörler (matematiksel temsil) şeklinde ifade etme yöntemidir. Bu sayısal temsiller, kelimelerin anlamlarını ve ilişkilerini daha iyi anlayabilmek için kullanılır. Her kelime, bir vektörle temsil edilir ve bu vektörler, kelimelerin anlamlarının ve dildeki bağlamlarının benzerliklerini yansıtır.\n",
    "\n",
    "Bu yöntemin popüler örnekleri arasında Word2Vec, GloVe ve FastText gibi algoritmalar bulunur."
   ]
  },
  {
   "cell_type": "code",
   "execution_count": 2,
   "id": "2f137686",
   "metadata": {},
   "outputs": [
    {
     "name": "stdout",
     "output_type": "stream",
     "text": [
      "Requirement already satisfied: gensim in c:\\programdata\\anaconda3\\lib\\site-packages (4.3.3)\n",
      "Requirement already satisfied: smart-open>=1.8.1 in c:\\programdata\\anaconda3\\lib\\site-packages (from gensim) (7.1.0)\n",
      "Requirement already satisfied: scipy<1.14.0,>=1.7.0 in c:\\programdata\\anaconda3\\lib\\site-packages (from gensim) (1.10.1)\n",
      "Requirement already satisfied: numpy<2.0,>=1.18.5 in c:\\programdata\\anaconda3\\lib\\site-packages (from gensim) (1.20.1)\n",
      "Requirement already satisfied: wrapt in c:\\programdata\\anaconda3\\lib\\site-packages (from smart-open>=1.8.1->gensim) (1.12.1)\n",
      "Note: you may need to restart the kernel to use updated packages.\n"
     ]
    }
   ],
   "source": [
    "pip install gensim"
   ]
  },
  {
   "cell_type": "code",
   "execution_count": 3,
   "id": "ba26fd28",
   "metadata": {},
   "outputs": [],
   "source": [
    "from gensim.models import Word2Vec"
   ]
  },
  {
   "cell_type": "code",
   "execution_count": 4,
   "id": "5d978014",
   "metadata": {},
   "outputs": [],
   "source": [
    "sentences = [\n",
    "    [\"elma\", \"kırmızı\", \"bir\", \"meyvedir\"],\n",
    "    [\"muz\", \"sarı\", \"renkte\", \"ve\", \"tatlıdır\"],\n",
    "    [\"çilek\", \"küçük\", \"ve\", \"kırmızı\", \"bir\", \"meyvedir\"]\n",
    "]"
   ]
  },
  {
   "cell_type": "code",
   "execution_count": 17,
   "id": "9f96bb9a",
   "metadata": {},
   "outputs": [],
   "source": [
    "model = Word2Vec(sentences=sentences, vector_size=2, min_count=2, window=3,workers=4, epochs=50)"
   ]
  },
  {
   "cell_type": "code",
   "execution_count": 13,
   "id": "86b89ba3",
   "metadata": {},
   "outputs": [
    {
     "data": {
      "text/plain": [
       "[('sarı', 0.9618370532989502),\n",
       " ('kırmızı', 0.9425112009048462),\n",
       " ('meyvedir', 0.9007711410522461)]"
      ]
     },
     "execution_count": 13,
     "metadata": {},
     "output_type": "execute_result"
    }
   ],
   "source": [
    "model.wv.most_similar(\"elma\", topn=3)"
   ]
  },
  {
   "cell_type": "code",
   "execution_count": 14,
   "id": "897e79dd",
   "metadata": {},
   "outputs": [
    {
     "data": {
      "text/plain": [
       "array([0.36552244, 0.25348812], dtype=float32)"
      ]
     },
     "execution_count": 14,
     "metadata": {},
     "output_type": "execute_result"
    }
   ],
   "source": [
    "model.wv[\"elma\"]"
   ]
  },
  {
   "cell_type": "code",
   "execution_count": 15,
   "id": "8f2e2242",
   "metadata": {},
   "outputs": [
    {
     "data": {
      "text/plain": [
       "-0.9702795"
      ]
     },
     "execution_count": 15,
     "metadata": {},
     "output_type": "execute_result"
    }
   ],
   "source": [
    "model.wv.similarity(\"elma\", \"muz\")"
   ]
  },
  {
   "cell_type": "code",
   "execution_count": 18,
   "id": "b290e155",
   "metadata": {},
   "outputs": [
    {
     "data": {
      "text/plain": [
       "['ve', 'meyvedir', 'bir', 'kırmızı']"
      ]
     },
     "execution_count": 18,
     "metadata": {},
     "output_type": "execute_result"
    }
   ],
   "source": [
    "model.wv.index_to_key"
   ]
  },
  {
   "cell_type": "code",
   "execution_count": null,
   "id": "880612cf",
   "metadata": {},
   "outputs": [],
   "source": []
  }
 ],
 "metadata": {
  "kernelspec": {
   "display_name": "Python 3",
   "language": "python",
   "name": "python3"
  },
  "language_info": {
   "codemirror_mode": {
    "name": "ipython",
    "version": 3
   },
   "file_extension": ".py",
   "mimetype": "text/x-python",
   "name": "python",
   "nbconvert_exporter": "python",
   "pygments_lexer": "ipython3",
   "version": "3.8.8"
  }
 },
 "nbformat": 4,
 "nbformat_minor": 5
}
