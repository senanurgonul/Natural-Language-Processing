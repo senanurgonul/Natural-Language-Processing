{
 "cells": [
  {
   "cell_type": "code",
   "execution_count": 1,
   "id": "79c780d5",
   "metadata": {},
   "outputs": [],
   "source": [
    "from collections import Counter"
   ]
  },
  {
   "cell_type": "code",
   "execution_count": 2,
   "id": "78337b8a",
   "metadata": {},
   "outputs": [],
   "source": [
    "words = [\"Ali\", \"Mehmet\", \"Zeynep\", \"Ali\", \"Mehmet\"]"
   ]
  },
  {
   "cell_type": "code",
   "execution_count": 3,
   "id": "1cec9cf5",
   "metadata": {},
   "outputs": [
    {
     "data": {
      "text/plain": [
       "Counter({'Ali': 2, 'Mehmet': 2, 'Zeynep': 1})"
      ]
     },
     "execution_count": 3,
     "metadata": {},
     "output_type": "execute_result"
    }
   ],
   "source": [
    "Counter(words)"
   ]
  },
  {
   "cell_type": "code",
   "execution_count": 4,
   "id": "5ba2f188",
   "metadata": {},
   "outputs": [],
   "source": [
    "ornek_metin = \"Doğal dil işleme, bilgisayarların insan dilini anlama, işleme ve üretme yeteneğini geliştirmeyi amaçlayan bir bilim dalıdır. Doğal dil işleme teknikleri, günümüzde birçok uygulamada kullanılmaktadır.\""
   ]
  },
  {
   "cell_type": "code",
   "execution_count": 5,
   "id": "b5cf6c1a",
   "metadata": {},
   "outputs": [
    {
     "data": {
      "text/plain": [
       "'Doğal dil işleme, bilgisayarların insan dilini anlama, işleme ve üretme yeteneğini geliştirmeyi amaçlayan bir bilim dalıdır. Doğal diş işleme teknikleri, günümüzde birçok uygulamada kullanılmaktadır.'"
      ]
     },
     "execution_count": 5,
     "metadata": {},
     "output_type": "execute_result"
    }
   ],
   "source": [
    "ornek_metin"
   ]
  },
  {
   "cell_type": "code",
   "execution_count": 6,
   "id": "dd73ccd7",
   "metadata": {},
   "outputs": [],
   "source": [
    "#Bu metni kelimelerine ayırıp noktalama işaretlerini kaldıralım, hangi kelime kaç defa geçiyor bulalım."
   ]
  },
  {
   "cell_type": "code",
   "execution_count": 2,
   "id": "fc92a58e",
   "metadata": {},
   "outputs": [],
   "source": [
    "import re"
   ]
  },
  {
   "cell_type": "code",
   "execution_count": 3,
   "id": "65701d76",
   "metadata": {},
   "outputs": [],
   "source": [
    "def text_preprocessing(text):\n",
    "    text = re.sub(r\"[^\\w\\s]\", \"\", text.lower())\n",
    "    return text.split()"
   ]
  },
  {
   "cell_type": "code",
   "execution_count": 9,
   "id": "2c85c86a",
   "metadata": {
    "scrolled": true
   },
   "outputs": [
    {
     "data": {
      "text/plain": [
       "['doğal',\n",
       " 'dil',\n",
       " 'işleme',\n",
       " 'bilgisayarların',\n",
       " 'insan',\n",
       " 'dilini',\n",
       " 'anlama',\n",
       " 'işleme',\n",
       " 've',\n",
       " 'üretme',\n",
       " 'yeteneğini',\n",
       " 'geliştirmeyi',\n",
       " 'amaçlayan',\n",
       " 'bir',\n",
       " 'bilim',\n",
       " 'dalıdır',\n",
       " 'doğal',\n",
       " 'diş',\n",
       " 'işleme',\n",
       " 'teknikleri',\n",
       " 'günümüzde',\n",
       " 'birçok',\n",
       " 'uygulamada',\n",
       " 'kullanılmaktadır']"
      ]
     },
     "execution_count": 9,
     "metadata": {},
     "output_type": "execute_result"
    }
   ],
   "source": [
    "text_preprocessing(ornek_metin)"
   ]
  },
  {
   "cell_type": "code",
   "execution_count": 10,
   "id": "87797868",
   "metadata": {},
   "outputs": [],
   "source": [
    "def word_freq(text):\n",
    "    return Counter(text_preprocessing(text))"
   ]
  },
  {
   "cell_type": "code",
   "execution_count": 12,
   "id": "6743c86f",
   "metadata": {},
   "outputs": [],
   "source": [
    "words = word_freq(ornek_metin)"
   ]
  },
  {
   "cell_type": "code",
   "execution_count": 13,
   "id": "8db081bb",
   "metadata": {},
   "outputs": [
    {
     "name": "stdout",
     "output_type": "stream",
     "text": [
      "doğal : 2\n",
      "dil : 1\n",
      "işleme : 3\n",
      "bilgisayarların : 1\n",
      "insan : 1\n",
      "dilini : 1\n",
      "anlama : 1\n",
      "ve : 1\n",
      "üretme : 1\n",
      "yeteneğini : 1\n",
      "geliştirmeyi : 1\n",
      "amaçlayan : 1\n",
      "bir : 1\n",
      "bilim : 1\n",
      "dalıdır : 1\n",
      "diş : 1\n",
      "teknikleri : 1\n",
      "günümüzde : 1\n",
      "birçok : 1\n",
      "uygulamada : 1\n",
      "kullanılmaktadır : 1\n"
     ]
    }
   ],
   "source": [
    "for word, freq in words.items():\n",
    "    print(f\"{word} : {freq}\")"
   ]
  },
  {
   "cell_type": "markdown",
   "id": "9a8fb6ed",
   "metadata": {},
   "source": [
    "# N Grams"
   ]
  },
  {
   "cell_type": "markdown",
   "id": "01027010",
   "metadata": {},
   "source": [
    "N-gram'lar, dildeki ardışık öğelerden oluşan dizilerdir ve genellikle doğal dil işleme (NLP) alanında kullanılır. Bir metni küçük parçalara ayırarak, kelime ya da harf düzeyinde örüntüleri analiz etmeye yarar. Örneğin, unigram bir kelimeyi, bigram ise ardışık iki kelimeyi ifade eder. N-gram'lar, dil modellemesi, metin tahminleme ve sınıflandırma gibi birçok uygulamada kullanılır."
   ]
  },
  {
   "cell_type": "code",
   "execution_count": 14,
   "id": "06ee73bd",
   "metadata": {},
   "outputs": [],
   "source": [
    "n_grams = [\"Ali\", \"Mehmet\", \"Zeynep\", \"Ali\", \"Mehmet\"]"
   ]
  },
  {
   "cell_type": "code",
   "execution_count": 15,
   "id": "4f25ea06",
   "metadata": {},
   "outputs": [],
   "source": [
    "# bigram -> [(\"Ali\", \"Mehmet\"), (\"Mehmet\", \"Zeynep\"), (\"Zeynep\", \"Ali\"), (\"Ali\", \"Mehmet\")]"
   ]
  },
  {
   "cell_type": "code",
   "execution_count": 19,
   "id": "9cd75f0d",
   "metadata": {},
   "outputs": [],
   "source": [
    "bi_gram = [tuple(n_grams[i:i+2]) for i in range(len(n_grams) + 1 - 2)]"
   ]
  },
  {
   "cell_type": "code",
   "execution_count": 20,
   "id": "a24aa752",
   "metadata": {},
   "outputs": [
    {
     "data": {
      "text/plain": [
       "[('Ali', 'Mehmet'), ('Mehmet', 'Zeynep'), ('Zeynep', 'Ali'), ('Ali', 'Mehmet')]"
      ]
     },
     "execution_count": 20,
     "metadata": {},
     "output_type": "execute_result"
    }
   ],
   "source": [
    "bi_gram"
   ]
  },
  {
   "cell_type": "code",
   "execution_count": 21,
   "id": "c717b11e",
   "metadata": {},
   "outputs": [
    {
     "data": {
      "text/plain": [
       "Counter({('Ali', 'Mehmet'): 2, ('Mehmet', 'Zeynep'): 1, ('Zeynep', 'Ali'): 1})"
      ]
     },
     "execution_count": 21,
     "metadata": {},
     "output_type": "execute_result"
    }
   ],
   "source": [
    "Counter(bi_gram)"
   ]
  },
  {
   "cell_type": "code",
   "execution_count": 22,
   "id": "fb37c602",
   "metadata": {},
   "outputs": [],
   "source": [
    "tri_gram = [tuple(n_grams[i:i+3]) for i in range(len(n_grams) + 1 - 3)]"
   ]
  },
  {
   "cell_type": "code",
   "execution_count": 23,
   "id": "3e24faad",
   "metadata": {},
   "outputs": [
    {
     "data": {
      "text/plain": [
       "[('Ali', 'Mehmet', 'Zeynep'),\n",
       " ('Mehmet', 'Zeynep', 'Ali'),\n",
       " ('Zeynep', 'Ali', 'Mehmet')]"
      ]
     },
     "execution_count": 23,
     "metadata": {},
     "output_type": "execute_result"
    }
   ],
   "source": [
    "tri_gram"
   ]
  },
  {
   "cell_type": "code",
   "execution_count": 24,
   "id": "90009438",
   "metadata": {},
   "outputs": [
    {
     "data": {
      "text/plain": [
       "Counter({('Ali', 'Mehmet', 'Zeynep'): 1,\n",
       "         ('Mehmet', 'Zeynep', 'Ali'): 1,\n",
       "         ('Zeynep', 'Ali', 'Mehmet'): 1})"
      ]
     },
     "execution_count": 24,
     "metadata": {},
     "output_type": "execute_result"
    }
   ],
   "source": [
    "Counter(tri_gram)"
   ]
  },
  {
   "cell_type": "code",
   "execution_count": 25,
   "id": "a29b2973",
   "metadata": {},
   "outputs": [],
   "source": [
    "# Yukarıdaki örnek metni bigram ve trigram'lara bölünüz."
   ]
  },
  {
   "cell_type": "markdown",
   "id": "34cd07b6",
   "metadata": {},
   "source": [
    "# 4.Hafta"
   ]
  },
  {
   "cell_type": "code",
   "execution_count": 5,
   "id": "4a2d20bc",
   "metadata": {},
   "outputs": [],
   "source": [
    "def generate_ngrams(text, n):\n",
    "    words = text_preprocessing(text)\n",
    "    return [tuple(words[i:i+n]) for i in range(len(words) + 1 - n)]"
   ]
  },
  {
   "cell_type": "code",
   "execution_count": 6,
   "id": "a8e663dc",
   "metadata": {},
   "outputs": [],
   "source": [
    "bi_gram = generate_ngrams(ornek_metin, 2)"
   ]
  },
  {
   "cell_type": "code",
   "execution_count": 8,
   "id": "cb0add0d",
   "metadata": {},
   "outputs": [],
   "source": [
    "tri_gram = generate_ngrams(ornek_metin, 3)"
   ]
  },
  {
   "cell_type": "code",
   "execution_count": 10,
   "id": "b8d9cb5a",
   "metadata": {},
   "outputs": [
    {
     "name": "stdout",
     "output_type": "stream",
     "text": [
      "('doğal', 'dil') : 2\n",
      "('dil', 'işleme') : 2\n",
      "('işleme', 'bilgisayarların') : 1\n",
      "('bilgisayarların', 'insan') : 1\n",
      "('insan', 'dilini') : 1\n",
      "('dilini', 'anlama') : 1\n",
      "('anlama', 'işleme') : 1\n",
      "('işleme', 've') : 1\n",
      "('ve', 'üretme') : 1\n",
      "('üretme', 'yeteneğini') : 1\n",
      "('yeteneğini', 'geliştirmeyi') : 1\n",
      "('geliştirmeyi', 'amaçlayan') : 1\n",
      "('amaçlayan', 'bir') : 1\n",
      "('bir', 'bilim') : 1\n",
      "('bilim', 'dalıdır') : 1\n",
      "('dalıdır', 'doğal') : 1\n",
      "('işleme', 'teknikleri') : 1\n",
      "('teknikleri', 'günümüzde') : 1\n",
      "('günümüzde', 'birçok') : 1\n",
      "('birçok', 'uygulamada') : 1\n",
      "('uygulamada', 'kullanılmaktadır') : 1\n"
     ]
    }
   ],
   "source": [
    "for bigram, freq in Counter(bi_gram).most_common():\n",
    "    print(f\"{bigram} : {freq}\")"
   ]
  },
  {
   "cell_type": "code",
   "execution_count": 11,
   "id": "b23d6ab3",
   "metadata": {},
   "outputs": [
    {
     "name": "stdout",
     "output_type": "stream",
     "text": [
      "('doğal', 'dil', 'işleme') : 2\n",
      "('dil', 'işleme', 'bilgisayarların') : 1\n",
      "('işleme', 'bilgisayarların', 'insan') : 1\n",
      "('bilgisayarların', 'insan', 'dilini') : 1\n",
      "('insan', 'dilini', 'anlama') : 1\n",
      "('dilini', 'anlama', 'işleme') : 1\n",
      "('anlama', 'işleme', 've') : 1\n",
      "('işleme', 've', 'üretme') : 1\n",
      "('ve', 'üretme', 'yeteneğini') : 1\n",
      "('üretme', 'yeteneğini', 'geliştirmeyi') : 1\n",
      "('yeteneğini', 'geliştirmeyi', 'amaçlayan') : 1\n",
      "('geliştirmeyi', 'amaçlayan', 'bir') : 1\n",
      "('amaçlayan', 'bir', 'bilim') : 1\n",
      "('bir', 'bilim', 'dalıdır') : 1\n",
      "('bilim', 'dalıdır', 'doğal') : 1\n",
      "('dalıdır', 'doğal', 'dil') : 1\n",
      "('dil', 'işleme', 'teknikleri') : 1\n",
      "('işleme', 'teknikleri', 'günümüzde') : 1\n",
      "('teknikleri', 'günümüzde', 'birçok') : 1\n",
      "('günümüzde', 'birçok', 'uygulamada') : 1\n",
      "('birçok', 'uygulamada', 'kullanılmaktadır') : 1\n"
     ]
    }
   ],
   "source": [
    "for trigram, freq in Counter(tri_gram).most_common():\n",
    "    print(f\"{trigram} : {freq}\")"
   ]
  },
  {
   "cell_type": "code",
   "execution_count": null,
   "id": "c983e3f9",
   "metadata": {},
   "outputs": [],
   "source": []
  }
 ],
 "metadata": {
  "kernelspec": {
   "display_name": "Python 3",
   "language": "python",
   "name": "python3"
  },
  "language_info": {
   "codemirror_mode": {
    "name": "ipython",
    "version": 3
   },
   "file_extension": ".py",
   "mimetype": "text/x-python",
   "name": "python",
   "nbconvert_exporter": "python",
   "pygments_lexer": "ipython3",
   "version": "3.8.8"
  }
 },
 "nbformat": 4,
 "nbformat_minor": 5
}
