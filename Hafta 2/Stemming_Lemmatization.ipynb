{
 "cells": [
  {
   "cell_type": "markdown",
   "id": "ddb0e019",
   "metadata": {},
   "source": [
    "# Stemming & Lemmatization"
   ]
  },
  {
   "cell_type": "markdown",
   "id": "8a37cba9",
   "metadata": {},
   "source": [
    "Stemming ve Lemmatization, doğal dil işleme (NLP) alanında kelimeleri köklerine indirgeme işlemleridir. Her iki yöntem de, kelimelerin farklı biçimlerinden (çoğul, zaman kipi, vb.) daha temel bir formda kullanılması için uygulanır. Ancak aralarındaki farklar da vardır:\n",
    "\n",
    "Stemming, genellikle kelimenin yalnızca takılarından arındırılmasına odaklanırken, lemmatization, anlam ve dilbilgisi kurallarına dayalı olarak kelimenin kök halini oluşturur. Stemming daha hızlıdır, ancak daha az doğru sonuçlar verebilir, lemmatization ise daha doğru ve anlamlıdır, ancak daha fazla işlem gücü gerektirir."
   ]
  },
  {
   "cell_type": "code",
   "execution_count": 2,
   "id": "6b724481",
   "metadata": {},
   "outputs": [],
   "source": [
    "import nltk\n",
    "from nltk.stem import PorterStemmer"
   ]
  },
  {
   "cell_type": "code",
   "execution_count": 3,
   "id": "07178379",
   "metadata": {},
   "outputs": [],
   "source": [
    "stemmer = PorterStemmer()"
   ]
  },
  {
   "cell_type": "code",
   "execution_count": 4,
   "id": "874cd6f0",
   "metadata": {},
   "outputs": [
    {
     "data": {
      "text/plain": [
       "'run'"
      ]
     },
     "execution_count": 4,
     "metadata": {},
     "output_type": "execute_result"
    }
   ],
   "source": [
    "stemmer.stem(\"running\")"
   ]
  },
  {
   "cell_type": "code",
   "execution_count": 5,
   "id": "16dd0501",
   "metadata": {},
   "outputs": [
    {
     "data": {
      "text/plain": [
       "'swim'"
      ]
     },
     "execution_count": 5,
     "metadata": {},
     "output_type": "execute_result"
    }
   ],
   "source": [
    "stemmer.stem(\"swimming\")"
   ]
  },
  {
   "cell_type": "code",
   "execution_count": 6,
   "id": "37e077a8",
   "metadata": {},
   "outputs": [
    {
     "data": {
      "text/plain": [
       "'fli'"
      ]
     },
     "execution_count": 6,
     "metadata": {},
     "output_type": "execute_result"
    }
   ],
   "source": [
    "stemmer.stem(\"flies\")"
   ]
  },
  {
   "cell_type": "code",
   "execution_count": 7,
   "id": "2ff1f60a",
   "metadata": {},
   "outputs": [],
   "source": [
    "from nltk.stem import WordNetLemmatizer"
   ]
  },
  {
   "cell_type": "code",
   "execution_count": 8,
   "id": "b9603601",
   "metadata": {},
   "outputs": [
    {
     "name": "stderr",
     "output_type": "stream",
     "text": [
      "[nltk_data] Downloading package wordnet to\n",
      "[nltk_data]     C:\\Users\\muhammet.aydinalp\\AppData\\Roaming\\nltk_data..\n",
      "[nltk_data]     .\n",
      "[nltk_data]   Package wordnet is already up-to-date!\n"
     ]
    },
    {
     "data": {
      "text/plain": [
       "True"
      ]
     },
     "execution_count": 8,
     "metadata": {},
     "output_type": "execute_result"
    }
   ],
   "source": [
    "nltk.download('wordnet')"
   ]
  },
  {
   "cell_type": "code",
   "execution_count": 9,
   "id": "11eec158",
   "metadata": {},
   "outputs": [],
   "source": [
    "lemmatizer = WordNetLemmatizer()"
   ]
  },
  {
   "cell_type": "code",
   "execution_count": 17,
   "id": "de863aa1",
   "metadata": {},
   "outputs": [
    {
     "data": {
      "text/plain": [
       "'run'"
      ]
     },
     "execution_count": 17,
     "metadata": {},
     "output_type": "execute_result"
    }
   ],
   "source": [
    "lemmatizer.lemmatize(\"Running\".lower(), pos = \"v\") # kelimenin küçük harfli olması gerekiyor."
   ]
  },
  {
   "cell_type": "code",
   "execution_count": 18,
   "id": "9345a652",
   "metadata": {},
   "outputs": [
    {
     "data": {
      "text/plain": [
       "'swim'"
      ]
     },
     "execution_count": 18,
     "metadata": {},
     "output_type": "execute_result"
    }
   ],
   "source": [
    "lemmatizer.lemmatize(\"swimming\", pos = \"v\")"
   ]
  },
  {
   "cell_type": "code",
   "execution_count": 19,
   "id": "5f5a9946",
   "metadata": {},
   "outputs": [
    {
     "data": {
      "text/plain": [
       "'fly'"
      ]
     },
     "execution_count": 19,
     "metadata": {},
     "output_type": "execute_result"
    }
   ],
   "source": [
    "lemmatizer.lemmatize(\"flies\", pos = \"v\")"
   ]
  },
  {
   "cell_type": "code",
   "execution_count": 20,
   "id": "e59931d9",
   "metadata": {},
   "outputs": [],
   "source": [
    "text = \"The cats are running and jumping over the lazy dogs\""
   ]
  },
  {
   "cell_type": "code",
   "execution_count": null,
   "id": "b70c1264",
   "metadata": {},
   "outputs": [],
   "source": [
    "#text değişkeninde var olan metni kelime tokenlerine bölüp, \n",
    "#stemming ve lemmatization işlemleri uygulayınız."
   ]
  },
  {
   "cell_type": "code",
   "execution_count": 21,
   "id": "bbc6f6b4",
   "metadata": {},
   "outputs": [],
   "source": [
    "from nltk.tokenize import word_tokenize"
   ]
  },
  {
   "cell_type": "code",
   "execution_count": null,
   "id": "911ddabf",
   "metadata": {},
   "outputs": [],
   "source": [
    "nltk.download(\"punkt\")"
   ]
  },
  {
   "cell_type": "code",
   "execution_count": 22,
   "id": "7354b8da",
   "metadata": {},
   "outputs": [],
   "source": [
    "tokens = word_tokenize(text)"
   ]
  },
  {
   "cell_type": "code",
   "execution_count": 23,
   "id": "0d88198b",
   "metadata": {
    "collapsed": true
   },
   "outputs": [
    {
     "data": {
      "text/plain": [
       "['The',\n",
       " 'cats',\n",
       " 'are',\n",
       " 'running',\n",
       " 'and',\n",
       " 'jumping',\n",
       " 'over',\n",
       " 'the',\n",
       " 'lazy',\n",
       " 'dogs']"
      ]
     },
     "execution_count": 23,
     "metadata": {},
     "output_type": "execute_result"
    }
   ],
   "source": [
    "tokens"
   ]
  },
  {
   "cell_type": "code",
   "execution_count": 24,
   "id": "71663277",
   "metadata": {},
   "outputs": [],
   "source": [
    "stemmed_list = [stemmer.stem(i) for i in tokens]"
   ]
  },
  {
   "cell_type": "code",
   "execution_count": 25,
   "id": "e264d191",
   "metadata": {},
   "outputs": [
    {
     "data": {
      "text/plain": [
       "['the', 'cat', 'are', 'run', 'and', 'jump', 'over', 'the', 'lazi', 'dog']"
      ]
     },
     "execution_count": 25,
     "metadata": {},
     "output_type": "execute_result"
    }
   ],
   "source": [
    "stemmed_list"
   ]
  },
  {
   "cell_type": "code",
   "execution_count": 27,
   "id": "222818cf",
   "metadata": {},
   "outputs": [],
   "source": [
    "lemmatized_list = [lemmatizer.lemmatize(i.lower(), pos = \"v\") for i in tokens]"
   ]
  },
  {
   "cell_type": "code",
   "execution_count": 28,
   "id": "d5e690e1",
   "metadata": {},
   "outputs": [
    {
     "data": {
      "text/plain": [
       "['the', 'cat', 'be', 'run', 'and', 'jump', 'over', 'the', 'lazy', 'dog']"
      ]
     },
     "execution_count": 28,
     "metadata": {},
     "output_type": "execute_result"
    }
   ],
   "source": [
    "lemmatized_list"
   ]
  },
  {
   "cell_type": "markdown",
   "id": "a7534e06",
   "metadata": {},
   "source": [
    "# Pos Tagging"
   ]
  },
  {
   "cell_type": "markdown",
   "id": "c75e465b",
   "metadata": {},
   "source": [
    "POS Tagging (Part of Speech Tagging), Türkçe'de Kelime Türü Etiketleme olarak bilinir, bir dil işleme (NLP) işlemidir ve bir metindeki her kelimeye, dilbilgisel olarak uygun bir etiket (kategori) atamak anlamına gelir."
   ]
  },
  {
   "cell_type": "code",
   "execution_count": 29,
   "id": "b31f5baf",
   "metadata": {},
   "outputs": [],
   "source": [
    "from nltk import pos_tag"
   ]
  },
  {
   "cell_type": "code",
   "execution_count": 30,
   "id": "5d1b8df9",
   "metadata": {},
   "outputs": [
    {
     "name": "stderr",
     "output_type": "stream",
     "text": [
      "[nltk_data] Downloading package averaged_perceptron_tagger to\n",
      "[nltk_data]     C:\\Users\\muhammet.aydinalp\\AppData\\Roaming\\nltk_data..\n",
      "[nltk_data]     .\n",
      "[nltk_data]   Package averaged_perceptron_tagger is already up-to-\n",
      "[nltk_data]       date!\n"
     ]
    },
    {
     "data": {
      "text/plain": [
       "True"
      ]
     },
     "execution_count": 30,
     "metadata": {},
     "output_type": "execute_result"
    }
   ],
   "source": [
    "nltk.download('averaged_perceptron_tagger')"
   ]
  },
  {
   "cell_type": "code",
   "execution_count": 31,
   "id": "8661bc54",
   "metadata": {},
   "outputs": [
    {
     "data": {
      "text/plain": [
       "[('The', 'DT'),\n",
       " ('cats', 'NNS'),\n",
       " ('are', 'VBP'),\n",
       " ('running', 'VBG'),\n",
       " ('and', 'CC'),\n",
       " ('jumping', 'NN'),\n",
       " ('over', 'IN'),\n",
       " ('the', 'DT'),\n",
       " ('lazy', 'JJ'),\n",
       " ('dogs', 'NNS')]"
      ]
     },
     "execution_count": 31,
     "metadata": {},
     "output_type": "execute_result"
    }
   ],
   "source": [
    "pos_tag(tokens)"
   ]
  },
  {
   "cell_type": "markdown",
   "id": "c1255087",
   "metadata": {},
   "source": [
    "Bu Etiketlerin Anlamı: DT: Determiner (Belirleyici) NNS: Noun, plural (Çoğul İsim) VBP: Verb, present tense, non-3rd person singular (Şimdiki Zaman, 3. tekil olmayan fiil) VBG: Verb, gerund or present participle (İsimleşmiş Fiil ya da Şimdiki Zaman Fiili) CC: Coordinating conjunction (Bağlaç) NN: Noun, singular or mass (Tekil İsim ya da Soyut İsim) IN: Preposition or subordinating conjunction (Edat ya da Bağlaç) JJ: Adjective (Sıfat)"
   ]
  },
  {
   "cell_type": "code",
   "execution_count": null,
   "id": "9731fddd",
   "metadata": {},
   "outputs": [],
   "source": []
  }
 ],
 "metadata": {
  "kernelspec": {
   "display_name": "Python 3",
   "language": "python",
   "name": "python3"
  },
  "language_info": {
   "codemirror_mode": {
    "name": "ipython",
    "version": 3
   },
   "file_extension": ".py",
   "mimetype": "text/x-python",
   "name": "python",
   "nbconvert_exporter": "python",
   "pygments_lexer": "ipython3",
   "version": "3.8.8"
  }
 },
 "nbformat": 4,
 "nbformat_minor": 5
}
