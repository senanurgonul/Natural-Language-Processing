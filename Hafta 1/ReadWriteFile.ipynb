{
 "cells": [
  {
   "cell_type": "code",
   "execution_count": 1,
   "id": "0a750132",
   "metadata": {},
   "outputs": [],
   "source": [
    "def read_file(file_path):\n",
    "    \n",
    "    try:\n",
    "        \n",
    "        with open(file_path, 'r') as file:\n",
    "            text = file.read()\n",
    "        return text\n",
    "    except FileNotFoundError:\n",
    "        print(\"Dosya bulunamadı\")\n",
    "        return None\n",
    "    "
   ]
  },
  {
   "cell_type": "code",
   "execution_count": 2,
   "id": "14201288",
   "metadata": {},
   "outputs": [],
   "source": [
    "text = read_file(\"ornek.txt\")"
   ]
  },
  {
   "cell_type": "code",
   "execution_count": 3,
   "id": "f08b2788",
   "metadata": {},
   "outputs": [
    {
     "data": {
      "text/plain": [
       "'Merhaba DÃ¼nya!'"
      ]
     },
     "execution_count": 3,
     "metadata": {},
     "output_type": "execute_result"
    }
   ],
   "source": [
    "text"
   ]
  },
  {
   "cell_type": "code",
   "execution_count": 4,
   "id": "cf040448",
   "metadata": {},
   "outputs": [],
   "source": [
    "def write_file(file_path, content):\n",
    "    \n",
    "    try:\n",
    "        \n",
    "        with open(file_path, \"w\") as file:\n",
    "            file.write(content)\n",
    "            \n",
    "        print(\"Dosya başarıyla yazıldı\")\n",
    "        \n",
    "    except Exception as ex:\n",
    "        \n",
    "        print(f\"Hata oluştu: {ex}\")"
   ]
  },
  {
   "cell_type": "code",
   "execution_count": 5,
   "id": "1e54f453",
   "metadata": {},
   "outputs": [],
   "source": [
    "output = \"Selam\""
   ]
  },
  {
   "cell_type": "code",
   "execution_count": 6,
   "id": "4a7d113e",
   "metadata": {},
   "outputs": [
    {
     "name": "stdout",
     "output_type": "stream",
     "text": [
      "Dosya başarıyla yazıldı\n"
     ]
    }
   ],
   "source": [
    "write_file(\"cikti.txt\", output)"
   ]
  },
  {
   "cell_type": "code",
   "execution_count": null,
   "id": "2637a451",
   "metadata": {},
   "outputs": [],
   "source": []
  }
 ],
 "metadata": {
  "kernelspec": {
   "display_name": "Python 3",
   "language": "python",
   "name": "python3"
  },
  "language_info": {
   "codemirror_mode": {
    "name": "ipython",
    "version": 3
   },
   "file_extension": ".py",
   "mimetype": "text/x-python",
   "name": "python",
   "nbconvert_exporter": "python",
   "pygments_lexer": "ipython3",
   "version": "3.8.8"
  }
 },
 "nbformat": 4,
 "nbformat_minor": 5
}
